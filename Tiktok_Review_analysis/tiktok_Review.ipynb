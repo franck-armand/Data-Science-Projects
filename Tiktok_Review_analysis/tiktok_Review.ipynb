{
 "cells": [
  {
   "cell_type": "code",
   "execution_count": 1,
   "metadata": {},
   "outputs": [],
   "source": [
    "import pandas as pd\n",
    "import nltk\n",
    "from nltk.corpus import stopwords\n"
   ]
  },
  {
   "cell_type": "code",
   "execution_count": 9,
   "metadata": {},
   "outputs": [],
   "source": [
    "# Loading dataset\n",
    "data_path = 'B:/_GITHUB/Data-Science-Projects/Tiktok_Review_analysis/dataset/tiktok_google_play_reviews.csv'\n",
    "data = pd.read_csv(data_path)"
   ]
  },
  {
   "cell_type": "code",
   "execution_count": 11,
   "metadata": {},
   "outputs": [
    {
     "name": "stdout",
     "output_type": "stream",
     "text": [
      "                                                 reviewId        userName  \\\n",
      "0       gp:AOqpTOHRz-11c0apHLSKHHp52FxUXsQS9Z88wP3sWc5...    MR LOL GAMER   \n",
      "1       gp:AOqpTOF6mFDEkIypmyT3shDLjPHg8zB3kdns2W36ahp...     Dino Kljako   \n",
      "2       gp:AOqpTOGtqU4sb8vuVo3-eB7kIXWoBn-0YCUZ1SnPRKS...  Olivia Harding   \n",
      "3       gp:AOqpTOFHDm-Qa5R6jCpOGTFT2qr1_PKbCTbBNPahCEn...         Keli We   \n",
      "4       gp:AOqpTOFB6Ndao8IHRpOJRmbSknwMGxHcwYzux93YyXI...    Mavis Kotoka   \n",
      "...                                                   ...             ...   \n",
      "307052  gp:AOqpTOEX2qzcEhnamYxu8Jrnu4Ia0UtuHkajx6I1Y_j...     Nze Alpeace   \n",
      "307053  gp:AOqpTOHnBTSFCqxFYSsNrg4vztYn-Z0Gg3aCIGLliRK...   Shalina Sayed   \n",
      "307054  gp:AOqpTOEuzjdo0NhbqpSBB18hhKP8X6FNPDOWVsan_TA...   ntokozo zondi   \n",
      "307055  gp:AOqpTOFoaOhvxddyVQPQJHpv9f4kgn2u2kkniAWQTRM...     Asika Emeka   \n",
      "307056  gp:AOqpTOF_2SyR6RmxASgEiW-4Vw9QRwF4sybqcSdnTlq...   Sumaiya Islam   \n",
      "\n",
      "                                                userImage  \\\n",
      "0       https://play-lh.googleusercontent.com/a/AATXAJ...   \n",
      "1       https://play-lh.googleusercontent.com/a-/AOh14...   \n",
      "2       https://play-lh.googleusercontent.com/a/AATXAJ...   \n",
      "3       https://play-lh.googleusercontent.com/a-/AOh14...   \n",
      "4       https://play-lh.googleusercontent.com/a/AATXAJ...   \n",
      "...                                                   ...   \n",
      "307052  https://play-lh.googleusercontent.com/a/AATXAJ...   \n",
      "307053  https://play-lh.googleusercontent.com/a/AATXAJ...   \n",
      "307054  https://play-lh.googleusercontent.com/a/AATXAJ...   \n",
      "307055  https://play-lh.googleusercontent.com/a/AATXAJ...   \n",
      "307056  https://play-lh.googleusercontent.com/a/AATXAJ...   \n",
      "\n",
      "                                                  content  score  \\\n",
      "0                                                    Good      5   \n",
      "1       Awesome app! Too many people on it where it's ...      5   \n",
      "2                                                 Not bad      5   \n",
      "3                                              It is good      2   \n",
      "4                                    Very interesting app      5   \n",
      "...                                                   ...    ...   \n",
      "307052  Best app ever let's do it ,very awesome let ev...      5   \n",
      "307053                                      I LOVE TIKTOK      5   \n",
      "307054       The videos are amazing...such an amazing app      5   \n",
      "307055                                           Nice app      5   \n",
      "307056                                  plz sapport my id      5   \n",
      "\n",
      "        thumbsUpCount reviewCreatedVersion                   at replyContent  \\\n",
      "0                   0               23.8.4  2022-04-05 23:18:30          NaN   \n",
      "1                   0                  NaN  2022-04-05 23:18:21          NaN   \n",
      "2                   0               23.9.5  2022-04-05 23:17:34          NaN   \n",
      "3                   0               22.2.5  2022-04-05 23:17:04          NaN   \n",
      "4                   0               22.1.5  2022-04-05 23:17:04          NaN   \n",
      "...               ...                  ...                  ...          ...   \n",
      "307052              0               22.6.5  2022-01-17 10:44:38          NaN   \n",
      "307053              0               22.8.4  2022-01-17 10:44:31          NaN   \n",
      "307054              0               22.8.4  2022-01-17 10:43:06          NaN   \n",
      "307055              0                  NaN  2022-01-17 10:42:27          NaN   \n",
      "307056              0               22.7.4  2022-01-17 10:41:51          NaN   \n",
      "\n",
      "       repliedAt  \n",
      "0            NaN  \n",
      "1            NaN  \n",
      "2            NaN  \n",
      "3            NaN  \n",
      "4            NaN  \n",
      "...          ...  \n",
      "307052       NaN  \n",
      "307053       NaN  \n",
      "307054       NaN  \n",
      "307055       NaN  \n",
      "307056       NaN  \n",
      "\n",
      "[307057 rows x 10 columns]\n"
     ]
    }
   ],
   "source": [
    "print(data)"
   ]
  },
  {
   "cell_type": "markdown",
   "metadata": {},
   "source": [
    "The dataset contains, 10 columns with different values some of which we would not use since we\n",
    "are analyzing the reviews on TikTok, the two crucials tables here would be be _\"score\"_ and \n",
    "_\"content\"_. Thus we can build a new dataset with those columns."
   ]
  },
  {
   "cell_type": "code",
   "execution_count": 12,
   "metadata": {},
   "outputs": [
    {
     "name": "stdout",
     "output_type": "stream",
     "text": [
      "                                             content  score\n",
      "0                                               Good      5\n",
      "1  Awesome app! Too many people on it where it's ...      5\n",
      "2                                            Not bad      5\n",
      "3                                         It is good      2\n",
      "4                               Very interesting app      5\n"
     ]
    }
   ],
   "source": [
    "data = data[['content','score']]\n",
    "print(data.head(5))"
   ]
  },
  {
   "cell_type": "code",
   "execution_count": 19,
   "metadata": {},
   "outputs": [
    {
     "name": "stdout",
     "output_type": "stream",
     "text": [
      "Before droping null values: \n",
      " content    4\n",
      "score      0\n",
      "dtype: int64\n",
      "After droping null values: \n",
      " content    0\n",
      "score      0\n",
      "dtype: int64\n"
     ]
    }
   ],
   "source": [
    "# check for null value and drop any \n",
    "print('Before droping null values: \\n',data.isnull().sum())\n",
    "data = data.dropna()\n",
    "print('After droping null values: \\n',data.isnull().sum())"
   ]
  },
  {
   "cell_type": "code",
   "execution_count": null,
   "metadata": {},
   "outputs": [],
   "source": [
    "# Data cleaning\n",
    "stopword = set(stopwords.words(\"english\"))\n",
    "print(stopword)"
   ]
  }
 ],
 "metadata": {
  "interpreter": {
   "hash": "db816d7616de24ade41e083521320c478457ecc7c227d9955d702456c2841bc9"
  },
  "kernelspec": {
   "display_name": "Python 3.7.6 ('base')",
   "language": "python",
   "name": "python3"
  },
  "language_info": {
   "name": "python",
   "version": "3.7.6"
  },
  "orig_nbformat": 4
 },
 "nbformat": 4,
 "nbformat_minor": 2
}
