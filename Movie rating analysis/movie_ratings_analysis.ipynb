{
 "cells": [
  {
   "cell_type": "code",
   "execution_count": 1,
   "metadata": {},
   "outputs": [],
   "source": [
    "import pandas as pd"
   ]
  },
  {
   "cell_type": "code",
   "execution_count": 2,
   "metadata": {},
   "outputs": [
    {
     "name": "stderr",
     "output_type": "stream",
     "text": [
      "c:\\Users\\arman\\anaconda3\\lib\\site-packages\\pandas\\util\\_decorators.py:311: ParserWarning: Falling back to the 'python' engine because the 'c' engine does not support regex separators (separators > 1 char and different from '\\s+' are interpreted as regex); you can avoid this warning by specifying engine='python'.\n",
      "  return func(*args, **kwargs)\n"
     ]
    },
    {
     "name": "stdout",
     "output_type": "stream",
     "text": [
      "   0000008      Edison Kinetoscopic Record of a Sneeze (1894)  \\\n",
      "0       10                La sortie des usines Lumière (1895)   \n",
      "1       12                      The Arrival of a Train (1896)   \n",
      "2       25  The Oxford and Cambridge University Boat Race ...   \n",
      "3       91                         Le manoir du diable (1896)   \n",
      "4      131                           Une nuit terrible (1896)   \n",
      "\n",
      "     Documentary|Short  \n",
      "0    Documentary|Short  \n",
      "1    Documentary|Short  \n",
      "2                  NaN  \n",
      "3         Short|Horror  \n",
      "4  Short|Comedy|Horror  \n"
     ]
    }
   ],
   "source": [
    "data_movies = pd.read_csv(\"B:\\_GITHUB\\Data-Science-Projects\\Movie rating analysis\\dataset\\movies.dat\", delimiter='::')\n",
    "print(data_movies.head())"
   ]
  },
  {
   "cell_type": "code",
   "execution_count": 3,
   "metadata": {},
   "outputs": [
    {
     "name": "stdout",
     "output_type": "stream",
     "text": [
      "    Id                                              Title                Genre\n",
      "0   10                La sortie des usines Lumière (1895)    Documentary|Short\n",
      "1   12                      The Arrival of a Train (1896)    Documentary|Short\n",
      "2   25  The Oxford and Cambridge University Boat Race ...                  NaN\n",
      "3   91                         Le manoir du diable (1896)         Short|Horror\n",
      "4  131                           Une nuit terrible (1896)  Short|Comedy|Horror\n"
     ]
    }
   ],
   "source": [
    "data_movies.columns = [\"Id\", \"Title\", \"Genre\"]\n",
    "print(data_movies.head())"
   ]
  },
  {
   "cell_type": "code",
   "execution_count": 4,
   "metadata": {},
   "outputs": [
    {
     "data": {
      "text/plain": [
       "Id        0\n",
       "Title     0\n",
       "Genre    71\n",
       "dtype: int64"
      ]
     },
     "execution_count": 4,
     "metadata": {},
     "output_type": "execute_result"
    }
   ],
   "source": [
    "data_movies.isnull().sum()"
   ]
  },
  {
   "cell_type": "code",
   "execution_count": 10,
   "metadata": {},
   "outputs": [
    {
     "data": {
      "text/html": [
       "<div>\n",
       "<style scoped>\n",
       "    .dataframe tbody tr th:only-of-type {\n",
       "        vertical-align: middle;\n",
       "    }\n",
       "\n",
       "    .dataframe tbody tr th {\n",
       "        vertical-align: top;\n",
       "    }\n",
       "\n",
       "    .dataframe thead th {\n",
       "        text-align: right;\n",
       "    }\n",
       "</style>\n",
       "<table border=\"1\" class=\"dataframe\">\n",
       "  <thead>\n",
       "    <tr style=\"text-align: right;\">\n",
       "      <th></th>\n",
       "      <th>Id</th>\n",
       "      <th>Title</th>\n",
       "      <th>Genre</th>\n",
       "    </tr>\n",
       "  </thead>\n",
       "  <tbody>\n",
       "    <tr>\n",
       "      <th>2</th>\n",
       "      <td>25</td>\n",
       "      <td>The Oxford and Cambridge University Boat Race ...</td>\n",
       "      <td>NaN</td>\n",
       "    </tr>\n",
       "    <tr>\n",
       "      <th>7</th>\n",
       "      <td>443</td>\n",
       "      <td>Hiawatha, the Messiah of the Ojibway (1903)</td>\n",
       "      <td>NaN</td>\n",
       "    </tr>\n",
       "    <tr>\n",
       "      <th>31</th>\n",
       "      <td>5530</td>\n",
       "      <td>L'héroïsme de Paddy (1915)</td>\n",
       "      <td>NaN</td>\n",
       "    </tr>\n",
       "    <tr>\n",
       "      <th>52</th>\n",
       "      <td>9340</td>\n",
       "      <td>The Man Who Woke Up (1918)</td>\n",
       "      <td>NaN</td>\n",
       "    </tr>\n",
       "    <tr>\n",
       "      <th>82</th>\n",
       "      <td>12844</td>\n",
       "      <td>White and Unmarried (1921)</td>\n",
       "      <td>NaN</td>\n",
       "    </tr>\n",
       "    <tr>\n",
       "      <th>...</th>\n",
       "      <td>...</td>\n",
       "      <td>...</td>\n",
       "      <td>...</td>\n",
       "    </tr>\n",
       "    <tr>\n",
       "      <th>36210</th>\n",
       "      <td>9448656</td>\n",
       "      <td>Plane Tree (2018)</td>\n",
       "      <td>NaN</td>\n",
       "    </tr>\n",
       "    <tr>\n",
       "      <th>36281</th>\n",
       "      <td>9620292</td>\n",
       "      <td>Promising Young Woman (2020)</td>\n",
       "      <td>NaN</td>\n",
       "    </tr>\n",
       "    <tr>\n",
       "      <th>36689</th>\n",
       "      <td>10521020</td>\n",
       "      <td>Cubanas. Mujeres En Revolución (2018)</td>\n",
       "      <td>NaN</td>\n",
       "    </tr>\n",
       "    <tr>\n",
       "      <th>37110</th>\n",
       "      <td>11771206</td>\n",
       "      <td>Tawaam Rouhy (2020)</td>\n",
       "      <td>NaN</td>\n",
       "    </tr>\n",
       "    <tr>\n",
       "      <th>37339</th>\n",
       "      <td>14735160</td>\n",
       "      <td>Mum is Pregnant (2021)</td>\n",
       "      <td>NaN</td>\n",
       "    </tr>\n",
       "  </tbody>\n",
       "</table>\n",
       "<p>71 rows × 3 columns</p>\n",
       "</div>"
      ],
      "text/plain": [
       "             Id                                              Title Genre\n",
       "2            25  The Oxford and Cambridge University Boat Race ...   NaN\n",
       "7           443        Hiawatha, the Messiah of the Ojibway (1903)   NaN\n",
       "31         5530                         L'héroïsme de Paddy (1915)   NaN\n",
       "52         9340                         The Man Who Woke Up (1918)   NaN\n",
       "82        12844                         White and Unmarried (1921)   NaN\n",
       "...         ...                                                ...   ...\n",
       "36210   9448656                                  Plane Tree (2018)   NaN\n",
       "36281   9620292                       Promising Young Woman (2020)   NaN\n",
       "36689  10521020              Cubanas. Mujeres En Revolución (2018)   NaN\n",
       "37110  11771206                                Tawaam Rouhy (2020)   NaN\n",
       "37339  14735160                             Mum is Pregnant (2021)   NaN\n",
       "\n",
       "[71 rows x 3 columns]"
      ]
     },
     "execution_count": 10,
     "metadata": {},
     "output_type": "execute_result"
    }
   ],
   "source": [
    "# checking the movies without gender\n",
    "data_movies_nan = data_movies[data_movies[\"Genre\"].isnull() == True] \n",
    "data_movies_nan"
   ]
  },
  {
   "cell_type": "code",
   "execution_count": 13,
   "metadata": {},
   "outputs": [
    {
     "name": "stderr",
     "output_type": "stream",
     "text": [
      "c:\\Users\\arman\\anaconda3\\lib\\site-packages\\pandas\\util\\_decorators.py:311: ParserWarning: Falling back to the 'python' engine because the 'c' engine does not support regex separators (separators > 1 char and different from '\\s+' are interpreted as regex); you can avoid this warning by specifying engine='python'.\n",
      "  return func(*args, **kwargs)\n"
     ]
    },
    {
     "data": {
      "text/html": [
       "<div>\n",
       "<style scoped>\n",
       "    .dataframe tbody tr th:only-of-type {\n",
       "        vertical-align: middle;\n",
       "    }\n",
       "\n",
       "    .dataframe tbody tr th {\n",
       "        vertical-align: top;\n",
       "    }\n",
       "\n",
       "    .dataframe thead th {\n",
       "        text-align: right;\n",
       "    }\n",
       "</style>\n",
       "<table border=\"1\" class=\"dataframe\">\n",
       "  <thead>\n",
       "    <tr style=\"text-align: right;\">\n",
       "      <th></th>\n",
       "      <th>1</th>\n",
       "      <th>0114508</th>\n",
       "      <th>8</th>\n",
       "      <th>1381006850</th>\n",
       "    </tr>\n",
       "  </thead>\n",
       "  <tbody>\n",
       "    <tr>\n",
       "      <th>0</th>\n",
       "      <td>2</td>\n",
       "      <td>499549</td>\n",
       "      <td>9</td>\n",
       "      <td>1376753198</td>\n",
       "    </tr>\n",
       "    <tr>\n",
       "      <th>1</th>\n",
       "      <td>2</td>\n",
       "      <td>1305591</td>\n",
       "      <td>8</td>\n",
       "      <td>1376742507</td>\n",
       "    </tr>\n",
       "    <tr>\n",
       "      <th>2</th>\n",
       "      <td>2</td>\n",
       "      <td>1428538</td>\n",
       "      <td>1</td>\n",
       "      <td>1371307089</td>\n",
       "    </tr>\n",
       "    <tr>\n",
       "      <th>3</th>\n",
       "      <td>3</td>\n",
       "      <td>75314</td>\n",
       "      <td>1</td>\n",
       "      <td>1595468524</td>\n",
       "    </tr>\n",
       "    <tr>\n",
       "      <th>4</th>\n",
       "      <td>3</td>\n",
       "      <td>102926</td>\n",
       "      <td>9</td>\n",
       "      <td>1590148016</td>\n",
       "    </tr>\n",
       "    <tr>\n",
       "      <th>...</th>\n",
       "      <td>...</td>\n",
       "      <td>...</td>\n",
       "      <td>...</td>\n",
       "      <td>...</td>\n",
       "    </tr>\n",
       "    <tr>\n",
       "      <th>906825</th>\n",
       "      <td>70781</td>\n",
       "      <td>9893250</td>\n",
       "      <td>10</td>\n",
       "      <td>1613857551</td>\n",
       "    </tr>\n",
       "    <tr>\n",
       "      <th>906826</th>\n",
       "      <td>70781</td>\n",
       "      <td>9898858</td>\n",
       "      <td>3</td>\n",
       "      <td>1585958452</td>\n",
       "    </tr>\n",
       "    <tr>\n",
       "      <th>906827</th>\n",
       "      <td>70782</td>\n",
       "      <td>172495</td>\n",
       "      <td>10</td>\n",
       "      <td>1587107015</td>\n",
       "    </tr>\n",
       "    <tr>\n",
       "      <th>906828</th>\n",
       "      <td>70782</td>\n",
       "      <td>414387</td>\n",
       "      <td>10</td>\n",
       "      <td>1587107852</td>\n",
       "    </tr>\n",
       "    <tr>\n",
       "      <th>906829</th>\n",
       "      <td>70783</td>\n",
       "      <td>1623205</td>\n",
       "      <td>6</td>\n",
       "      <td>1362832655</td>\n",
       "    </tr>\n",
       "  </tbody>\n",
       "</table>\n",
       "<p>906830 rows × 4 columns</p>\n",
       "</div>"
      ],
      "text/plain": [
       "            1  0114508   8  1381006850\n",
       "0           2   499549   9  1376753198\n",
       "1           2  1305591   8  1376742507\n",
       "2           2  1428538   1  1371307089\n",
       "3           3    75314   1  1595468524\n",
       "4           3   102926   9  1590148016\n",
       "...       ...      ...  ..         ...\n",
       "906825  70781  9893250  10  1613857551\n",
       "906826  70781  9898858   3  1585958452\n",
       "906827  70782   172495  10  1587107015\n",
       "906828  70782   414387  10  1587107852\n",
       "906829  70783  1623205   6  1362832655\n",
       "\n",
       "[906830 rows x 4 columns]"
      ]
     },
     "execution_count": 13,
     "metadata": {},
     "output_type": "execute_result"
    }
   ],
   "source": [
    "data_rating = pd.read_csv(\"B:/_GITHUB/Data-Science-Projects/Movie rating analysis/dataset/ratings.dat\", delimiter = \"::\")\n",
    "data_rating"
   ]
  },
  {
   "cell_type": "code",
   "execution_count": null,
   "metadata": {},
   "outputs": [],
   "source": []
  }
 ],
 "metadata": {
  "kernelspec": {
   "display_name": "Python 3.7.6 ('base')",
   "language": "python",
   "name": "python3"
  },
  "language_info": {
   "codemirror_mode": {
    "name": "ipython",
    "version": 3
   },
   "file_extension": ".py",
   "mimetype": "text/x-python",
   "name": "python",
   "nbconvert_exporter": "python",
   "pygments_lexer": "ipython3",
   "version": "3.7.6"
  },
  "orig_nbformat": 4,
  "vscode": {
   "interpreter": {
    "hash": "db816d7616de24ade41e083521320c478457ecc7c227d9955d702456c2841bc9"
   }
  }
 },
 "nbformat": 4,
 "nbformat_minor": 2
}
